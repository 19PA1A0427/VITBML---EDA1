{
  "nbformat": 4,
  "nbformat_minor": 0,
  "metadata": {
    "colab": {
      "name": "DATA_ANALYSIS.ipynb",
      "provenance": [],
      "collapsed_sections": [],
      "include_colab_link": true
    },
    "kernelspec": {
      "name": "python3",
      "display_name": "Python 3"
    }
  },
  "cells": [
    {
      "cell_type": "markdown",
      "metadata": {
        "id": "view-in-github",
        "colab_type": "text"
      },
      "source": [
        "<a href=\"https://colab.research.google.com/github/19PA1A0427/VITBML---EDA1/blob/master/DATA_ANALYSIS.ipynb\" target=\"_parent\"><img src=\"https://colab.research.google.com/assets/colab-badge.svg\" alt=\"Open In Colab\"/></a>"
      ]
    },
    {
      "cell_type": "markdown",
      "metadata": {
        "id": "SJ7Eoh_m7RqT",
        "colab_type": "text"
      },
      "source": [
        "# <center>**Pandas Introduction**</center>"
      ]
    },
    {
      "cell_type": "markdown",
      "metadata": {
        "id": "9m9IR9AOdiE3",
        "colab_type": "text"
      },
      "source": [
        "The dataset is about sales record across the world.\n",
        "In this dataset,first column represents region which means various countries in world.It contains sales of various sales in various countries.in this dataset,we collect information about unit solid for the sales.Id,dates are given to orders.and also date for the ship also noted.unit cost ,unit price of sales will be taken.Total cost,Total revenue noticed.Atlast we will notice the profit of the sales in the country."
      ]
    },
    {
      "cell_type": "markdown",
      "metadata": {
        "id": "Lx7iUu_FF7jb",
        "colab_type": "text"
      },
      "source": [
        "#**Questions**\n",
        "\n",
        "**1.Read the data.**\n",
        "\n",
        "**2.Check Data dimensions.**\n",
        "\n",
        "**3.Append the data frame.**\n",
        "\n",
        "**4.Get Central Tendency.**\n",
        "\n",
        "**5.Represent Histogram.**\n",
        "\n",
        "**6.Plot Box chart.**\n",
        "\n",
        "**7.Scatter plot.**\n",
        "\n",
        "**8.Drop Colomns and Rows.**"
      ]
    },
    {
      "cell_type": "markdown",
      "metadata": {
        "id": "57PsgZ5E7sgM",
        "colab_type": "text"
      },
      "source": [
        "## **Pandas DataFrame**"
      ]
    },
    {
      "cell_type": "code",
      "metadata": {
        "id": "XfEvnKMK7vBN",
        "colab_type": "code",
        "colab": {}
      },
      "source": [
        "import pandas as pd"
      ],
      "execution_count": 0,
      "outputs": []
    },
    {
      "cell_type": "markdown",
      "metadata": {
        "id": "VsC3V_nx8CvO",
        "colab_type": "text"
      },
      "source": [
        "## **Reading data**"
      ]
    },
    {
      "cell_type": "code",
      "metadata": {
        "id": "vTsbqAIz8GQn",
        "colab_type": "code",
        "outputId": "486a17df-6c1f-444b-fa86-55adf320a057",
        "colab": {
          "base_uri": "https://localhost:8080/",
          "height": 490
        }
      },
      "source": [
        "# Read data from csv file\n",
        "sniggy = pd.read_csv('/content/10000 Sales Records_Siddu - 10000 Sales Records_Siddu.csv')\n",
        "sniggy"
      ],
      "execution_count": 0,
      "outputs": [
        {
          "output_type": "execute_result",
          "data": {
            "text/html": [
              "<div>\n",
              "<style scoped>\n",
              "    .dataframe tbody tr th:only-of-type {\n",
              "        vertical-align: middle;\n",
              "    }\n",
              "\n",
              "    .dataframe tbody tr th {\n",
              "        vertical-align: top;\n",
              "    }\n",
              "\n",
              "    .dataframe thead th {\n",
              "        text-align: right;\n",
              "    }\n",
              "</style>\n",
              "<table border=\"1\" class=\"dataframe\">\n",
              "  <thead>\n",
              "    <tr style=\"text-align: right;\">\n",
              "      <th></th>\n",
              "      <th>Region</th>\n",
              "      <th>Country</th>\n",
              "      <th>Item Type</th>\n",
              "      <th>Order Date</th>\n",
              "      <th>Order ID</th>\n",
              "      <th>Units Sold</th>\n",
              "      <th>Unit Price</th>\n",
              "      <th>Unit Cost</th>\n",
              "      <th>Total Revenue</th>\n",
              "      <th>Total Cost</th>\n",
              "      <th>Total Profit</th>\n",
              "    </tr>\n",
              "  </thead>\n",
              "  <tbody>\n",
              "    <tr>\n",
              "      <th>0</th>\n",
              "      <td>Sub-Saharan Africa</td>\n",
              "      <td>Chad</td>\n",
              "      <td>Office Supplies</td>\n",
              "      <td>1/27/2011</td>\n",
              "      <td>292494523</td>\n",
              "      <td>4484.0</td>\n",
              "      <td>651.21</td>\n",
              "      <td>524.96</td>\n",
              "      <td>2920025.64</td>\n",
              "      <td>2353920.64</td>\n",
              "      <td>566105.00</td>\n",
              "    </tr>\n",
              "    <tr>\n",
              "      <th>1</th>\n",
              "      <td>Europe</td>\n",
              "      <td>Latvia</td>\n",
              "      <td>Beverages</td>\n",
              "      <td>12/28/2015</td>\n",
              "      <td>361825549</td>\n",
              "      <td>1075.0</td>\n",
              "      <td>47.45</td>\n",
              "      <td>31.79</td>\n",
              "      <td>51008.75</td>\n",
              "      <td>34174.25</td>\n",
              "      <td>16834.50</td>\n",
              "    </tr>\n",
              "    <tr>\n",
              "      <th>2</th>\n",
              "      <td>Middle East and North Africa</td>\n",
              "      <td>Pakistan</td>\n",
              "      <td>Vegetables</td>\n",
              "      <td>1/13/2011</td>\n",
              "      <td>141515767</td>\n",
              "      <td>6515.0</td>\n",
              "      <td>154.06</td>\n",
              "      <td>90.93</td>\n",
              "      <td>1003700.90</td>\n",
              "      <td>592408.95</td>\n",
              "      <td>411291.95</td>\n",
              "    </tr>\n",
              "    <tr>\n",
              "      <th>3</th>\n",
              "      <td>Sub-Saharan Africa</td>\n",
              "      <td>Democratic Republic of the Congo</td>\n",
              "      <td>Household</td>\n",
              "      <td>9/11/2012</td>\n",
              "      <td>500364005</td>\n",
              "      <td>7683.0</td>\n",
              "      <td>668.27</td>\n",
              "      <td>502.54</td>\n",
              "      <td>5134318.41</td>\n",
              "      <td>3861014.82</td>\n",
              "      <td>1273303.59</td>\n",
              "    </tr>\n",
              "    <tr>\n",
              "      <th>4</th>\n",
              "      <td>Europe</td>\n",
              "      <td>Czech Republic</td>\n",
              "      <td>Beverages</td>\n",
              "      <td>10/27/2015</td>\n",
              "      <td>127481591</td>\n",
              "      <td>3491.0</td>\n",
              "      <td>47.45</td>\n",
              "      <td>31.79</td>\n",
              "      <td>165647.95</td>\n",
              "      <td>110978.89</td>\n",
              "      <td>54669.06</td>\n",
              "    </tr>\n",
              "    <tr>\n",
              "      <th>...</th>\n",
              "      <td>...</td>\n",
              "      <td>...</td>\n",
              "      <td>...</td>\n",
              "      <td>...</td>\n",
              "      <td>...</td>\n",
              "      <td>...</td>\n",
              "      <td>...</td>\n",
              "      <td>...</td>\n",
              "      <td>...</td>\n",
              "      <td>...</td>\n",
              "      <td>...</td>\n",
              "    </tr>\n",
              "    <tr>\n",
              "      <th>9995</th>\n",
              "      <td>Asia</td>\n",
              "      <td>Laos</td>\n",
              "      <td>Beverages</td>\n",
              "      <td>7/15/2014</td>\n",
              "      <td>199342048</td>\n",
              "      <td>8597.0</td>\n",
              "      <td>47.45</td>\n",
              "      <td>31.79</td>\n",
              "      <td>407927.65</td>\n",
              "      <td>273298.63</td>\n",
              "      <td>134629.02</td>\n",
              "    </tr>\n",
              "    <tr>\n",
              "      <th>9996</th>\n",
              "      <td>Europe</td>\n",
              "      <td>Liechtenstein</td>\n",
              "      <td>Cosmetics</td>\n",
              "      <td>10/27/2012</td>\n",
              "      <td>763044106</td>\n",
              "      <td>562.0</td>\n",
              "      <td>437.20</td>\n",
              "      <td>263.33</td>\n",
              "      <td>245706.40</td>\n",
              "      <td>147991.46</td>\n",
              "      <td>97714.94</td>\n",
              "    </tr>\n",
              "    <tr>\n",
              "      <th>9997</th>\n",
              "      <td>Sub-Saharan Africa</td>\n",
              "      <td>Democratic Republic of the Congo</td>\n",
              "      <td>Vegetables</td>\n",
              "      <td>2/14/2013</td>\n",
              "      <td>848579967</td>\n",
              "      <td>2524.0</td>\n",
              "      <td>154.06</td>\n",
              "      <td>90.93</td>\n",
              "      <td>388847.44</td>\n",
              "      <td>229507.32</td>\n",
              "      <td>159340.12</td>\n",
              "    </tr>\n",
              "    <tr>\n",
              "      <th>9998</th>\n",
              "      <td>Sub-Saharan Africa</td>\n",
              "      <td>South Africa</td>\n",
              "      <td>Meat</td>\n",
              "      <td>2/19/2017</td>\n",
              "      <td>298185956</td>\n",
              "      <td>8706.0</td>\n",
              "      <td>421.89</td>\n",
              "      <td>364.69</td>\n",
              "      <td>3672974.34</td>\n",
              "      <td>3174991.14</td>\n",
              "      <td>497983.20</td>\n",
              "    </tr>\n",
              "    <tr>\n",
              "      <th>9999</th>\n",
              "      <td>Asia</td>\n",
              "      <td>Mongolia</td>\n",
              "      <td>Snacks</td>\n",
              "      <td>4/12/2016</td>\n",
              "      <td>824410903</td>\n",
              "      <td>361.0</td>\n",
              "      <td>152.58</td>\n",
              "      <td>97.44</td>\n",
              "      <td>55081.38</td>\n",
              "      <td>35175.84</td>\n",
              "      <td>19905.54</td>\n",
              "    </tr>\n",
              "  </tbody>\n",
              "</table>\n",
              "<p>10000 rows × 11 columns</p>\n",
              "</div>"
            ],
            "text/plain": [
              "                            Region  ... Total Profit\n",
              "0               Sub-Saharan Africa  ...    566105.00\n",
              "1                           Europe  ...     16834.50\n",
              "2     Middle East and North Africa  ...    411291.95\n",
              "3               Sub-Saharan Africa  ...   1273303.59\n",
              "4                           Europe  ...     54669.06\n",
              "...                            ...  ...          ...\n",
              "9995                          Asia  ...    134629.02\n",
              "9996                        Europe  ...     97714.94\n",
              "9997            Sub-Saharan Africa  ...    159340.12\n",
              "9998            Sub-Saharan Africa  ...    497983.20\n",
              "9999                          Asia  ...     19905.54\n",
              "\n",
              "[10000 rows x 11 columns]"
            ]
          },
          "metadata": {
            "tags": []
          },
          "execution_count": 5
        }
      ]
    },
    {
      "cell_type": "code",
      "metadata": {
        "id": "UoldfDX28XEi",
        "colab_type": "code",
        "colab": {}
      },
      "source": [
        ""
      ],
      "execution_count": 0,
      "outputs": []
    },
    {
      "cell_type": "markdown",
      "metadata": {
        "id": "eAdjmjZub__s",
        "colab_type": "text"
      },
      "source": [
        "## **Checking data dimensions**\n"
      ]
    },
    {
      "cell_type": "code",
      "metadata": {
        "id": "w8vh40fkcDtz",
        "colab_type": "code",
        "outputId": "09e14168-4dae-425d-8894-b93b1a36b841",
        "colab": {
          "base_uri": "https://localhost:8080/",
          "height": 34
        }
      },
      "source": [
        "print(sniggy.shape)\n"
      ],
      "execution_count": 0,
      "outputs": [
        {
          "output_type": "stream",
          "text": [
            "(10000, 11)\n"
          ],
          "name": "stdout"
        }
      ]
    },
    {
      "cell_type": "markdown",
      "metadata": {
        "id": "-HmfBPSDjBu0",
        "colab_type": "text"
      },
      "source": [
        "## **Appending DataFrame**\n"
      ]
    },
    {
      "cell_type": "code",
      "metadata": {
        "id": "PGT6s2i-jF18",
        "colab_type": "code",
        "outputId": "f7e15533-2e71-451c-e13a-28d3c96a5712",
        "colab": {
          "base_uri": "https://localhost:8080/",
          "height": 265
        }
      },
      "source": [
        "sniggy1 = sniggy.copy()             # Explicitly creating a copy of ipl. Just to make sure you don't modify your original data\n",
        "sniggy1 = sniggy1.append(sniggy)\n",
        "print(sniggy)"
      ],
      "execution_count": 0,
      "outputs": [
        {
          "output_type": "stream",
          "text": [
            "                            Region  ... Total Profit\n",
            "0               Sub-Saharan Africa  ...    566105.00\n",
            "1                           Europe  ...     16834.50\n",
            "2     Middle East and North Africa  ...    411291.95\n",
            "3               Sub-Saharan Africa  ...   1273303.59\n",
            "4                           Europe  ...     54669.06\n",
            "...                            ...  ...          ...\n",
            "9995                          Asia  ...    134629.02\n",
            "9996                        Europe  ...     97714.94\n",
            "9997            Sub-Saharan Africa  ...    159340.12\n",
            "9998            Sub-Saharan Africa  ...    497983.20\n",
            "9999                          Asia  ...     19905.54\n",
            "\n",
            "[10000 rows x 11 columns]\n"
          ],
          "name": "stdout"
        }
      ]
    },
    {
      "cell_type": "markdown",
      "metadata": {
        "id": "_9m5O8VMjGiM",
        "colab_type": "text"
      },
      "source": [
        "## **Data Inspection**"
      ]
    },
    {
      "cell_type": "code",
      "metadata": {
        "id": "tTCXGvnyjZJg",
        "colab_type": "code",
        "outputId": "9abcd03f-adbd-4d67-a290-f77852978a3c",
        "colab": {
          "base_uri": "https://localhost:8080/",
          "height": 34
        }
      },
      "source": [
        "sniggy1.shape"
      ],
      "execution_count": 0,
      "outputs": [
        {
          "output_type": "execute_result",
          "data": {
            "text/plain": [
              "(20000, 11)"
            ]
          },
          "metadata": {
            "tags": []
          },
          "execution_count": 8
        }
      ]
    },
    {
      "cell_type": "code",
      "metadata": {
        "id": "EBddYUw1jj84",
        "colab_type": "code",
        "outputId": "1ddf03de-6605-44ea-f6b7-ca2856c3bcba",
        "colab": {
          "base_uri": "https://localhost:8080/",
          "height": 137
        }
      },
      "source": [
        "sniggy.head(3)"
      ],
      "execution_count": 0,
      "outputs": [
        {
          "output_type": "execute_result",
          "data": {
            "text/html": [
              "<div>\n",
              "<style scoped>\n",
              "    .dataframe tbody tr th:only-of-type {\n",
              "        vertical-align: middle;\n",
              "    }\n",
              "\n",
              "    .dataframe tbody tr th {\n",
              "        vertical-align: top;\n",
              "    }\n",
              "\n",
              "    .dataframe thead th {\n",
              "        text-align: right;\n",
              "    }\n",
              "</style>\n",
              "<table border=\"1\" class=\"dataframe\">\n",
              "  <thead>\n",
              "    <tr style=\"text-align: right;\">\n",
              "      <th></th>\n",
              "      <th>Region</th>\n",
              "      <th>Country</th>\n",
              "      <th>Item Type</th>\n",
              "      <th>Order Date</th>\n",
              "      <th>Order ID</th>\n",
              "      <th>Units Sold</th>\n",
              "      <th>Unit Price</th>\n",
              "      <th>Unit Cost</th>\n",
              "      <th>Total Revenue</th>\n",
              "      <th>Total Cost</th>\n",
              "      <th>Total Profit</th>\n",
              "    </tr>\n",
              "  </thead>\n",
              "  <tbody>\n",
              "    <tr>\n",
              "      <th>0</th>\n",
              "      <td>Sub-Saharan Africa</td>\n",
              "      <td>Chad</td>\n",
              "      <td>Office Supplies</td>\n",
              "      <td>1/27/2011</td>\n",
              "      <td>292494523</td>\n",
              "      <td>4484.0</td>\n",
              "      <td>651.21</td>\n",
              "      <td>524.96</td>\n",
              "      <td>2920025.64</td>\n",
              "      <td>2353920.64</td>\n",
              "      <td>566105.00</td>\n",
              "    </tr>\n",
              "    <tr>\n",
              "      <th>1</th>\n",
              "      <td>Europe</td>\n",
              "      <td>Latvia</td>\n",
              "      <td>Beverages</td>\n",
              "      <td>12/28/2015</td>\n",
              "      <td>361825549</td>\n",
              "      <td>1075.0</td>\n",
              "      <td>47.45</td>\n",
              "      <td>31.79</td>\n",
              "      <td>51008.75</td>\n",
              "      <td>34174.25</td>\n",
              "      <td>16834.50</td>\n",
              "    </tr>\n",
              "    <tr>\n",
              "      <th>2</th>\n",
              "      <td>Middle East and North Africa</td>\n",
              "      <td>Pakistan</td>\n",
              "      <td>Vegetables</td>\n",
              "      <td>1/13/2011</td>\n",
              "      <td>141515767</td>\n",
              "      <td>6515.0</td>\n",
              "      <td>154.06</td>\n",
              "      <td>90.93</td>\n",
              "      <td>1003700.90</td>\n",
              "      <td>592408.95</td>\n",
              "      <td>411291.95</td>\n",
              "    </tr>\n",
              "  </tbody>\n",
              "</table>\n",
              "</div>"
            ],
            "text/plain": [
              "                         Region   Country  ...  Total Cost Total Profit\n",
              "0            Sub-Saharan Africa      Chad  ...  2353920.64    566105.00\n",
              "1                        Europe    Latvia  ...    34174.25     16834.50\n",
              "2  Middle East and North Africa  Pakistan  ...   592408.95    411291.95\n",
              "\n",
              "[3 rows x 11 columns]"
            ]
          },
          "metadata": {
            "tags": []
          },
          "execution_count": 9
        }
      ]
    },
    {
      "cell_type": "code",
      "metadata": {
        "id": "3c0PEMapMy7o",
        "colab_type": "code",
        "outputId": "2ed8b3bc-0c21-4927-bb2f-3fdd6e72241a",
        "colab": {
          "base_uri": "https://localhost:8080/",
          "height": 87
        }
      },
      "source": [
        "print(sniggy1.columns)                       "
      ],
      "execution_count": 0,
      "outputs": [
        {
          "output_type": "stream",
          "text": [
            "Index(['Region', 'Country', 'Item Type', 'Order Date', 'Order ID',\n",
            "       'Units Sold', 'Unit Price', 'Unit Cost', 'Total Revenue', 'Total Cost',\n",
            "       'Total Profit'],\n",
            "      dtype='object')\n"
          ],
          "name": "stdout"
        }
      ]
    },
    {
      "cell_type": "code",
      "metadata": {
        "id": "2MAwvMJuOrIj",
        "colab_type": "code",
        "outputId": "9399de09-8ee2-415c-84af-0988c9a364a6",
        "colab": {
          "base_uri": "https://localhost:8080/",
          "height": 230
        }
      },
      "source": [
        "print(sniggy1.dtypes)                       "
      ],
      "execution_count": 0,
      "outputs": [
        {
          "output_type": "stream",
          "text": [
            "Region            object\n",
            "Country           object\n",
            "Item Type         object\n",
            "Order Date        object\n",
            "Order ID           int64\n",
            "Units Sold       float64\n",
            "Unit Price       float64\n",
            "Unit Cost        float64\n",
            "Total Revenue    float64\n",
            "Total Cost       float64\n",
            "Total Profit     float64\n",
            "dtype: object\n"
          ],
          "name": "stdout"
        }
      ]
    },
    {
      "cell_type": "markdown",
      "metadata": {
        "id": "HZQZj3pyjXYo",
        "colab_type": "text"
      },
      "source": [
        "## **Seting match_id as row index** (rarely used)"
      ]
    },
    {
      "cell_type": "code",
      "metadata": {
        "id": "9DaXh1lQj819",
        "colab_type": "code",
        "outputId": "42da85cb-882e-4717-a76e-0fa19e74ce94",
        "colab": {
          "base_uri": "https://localhost:8080/",
          "height": 167
        }
      },
      "source": [
        "sniggy1.set_index(['Region'],inplace=True)\n",
        "sniggy1.head(3)"
      ],
      "execution_count": 0,
      "outputs": [
        {
          "output_type": "execute_result",
          "data": {
            "text/html": [
              "<div>\n",
              "<style scoped>\n",
              "    .dataframe tbody tr th:only-of-type {\n",
              "        vertical-align: middle;\n",
              "    }\n",
              "\n",
              "    .dataframe tbody tr th {\n",
              "        vertical-align: top;\n",
              "    }\n",
              "\n",
              "    .dataframe thead th {\n",
              "        text-align: right;\n",
              "    }\n",
              "</style>\n",
              "<table border=\"1\" class=\"dataframe\">\n",
              "  <thead>\n",
              "    <tr style=\"text-align: right;\">\n",
              "      <th></th>\n",
              "      <th>Country</th>\n",
              "      <th>Item Type</th>\n",
              "      <th>Order Date</th>\n",
              "      <th>Order ID</th>\n",
              "      <th>Units Sold</th>\n",
              "      <th>Unit Price</th>\n",
              "      <th>Unit Cost</th>\n",
              "      <th>Total Revenue</th>\n",
              "      <th>Total Cost</th>\n",
              "      <th>Total Profit</th>\n",
              "    </tr>\n",
              "    <tr>\n",
              "      <th>Region</th>\n",
              "      <th></th>\n",
              "      <th></th>\n",
              "      <th></th>\n",
              "      <th></th>\n",
              "      <th></th>\n",
              "      <th></th>\n",
              "      <th></th>\n",
              "      <th></th>\n",
              "      <th></th>\n",
              "      <th></th>\n",
              "    </tr>\n",
              "  </thead>\n",
              "  <tbody>\n",
              "    <tr>\n",
              "      <th>Sub-Saharan Africa</th>\n",
              "      <td>Chad</td>\n",
              "      <td>Office Supplies</td>\n",
              "      <td>1/27/2011</td>\n",
              "      <td>292494523</td>\n",
              "      <td>4484.0</td>\n",
              "      <td>651.21</td>\n",
              "      <td>524.96</td>\n",
              "      <td>2920025.64</td>\n",
              "      <td>2353920.64</td>\n",
              "      <td>566105.00</td>\n",
              "    </tr>\n",
              "    <tr>\n",
              "      <th>Europe</th>\n",
              "      <td>Latvia</td>\n",
              "      <td>Beverages</td>\n",
              "      <td>12/28/2015</td>\n",
              "      <td>361825549</td>\n",
              "      <td>1075.0</td>\n",
              "      <td>47.45</td>\n",
              "      <td>31.79</td>\n",
              "      <td>51008.75</td>\n",
              "      <td>34174.25</td>\n",
              "      <td>16834.50</td>\n",
              "    </tr>\n",
              "    <tr>\n",
              "      <th>Middle East and North Africa</th>\n",
              "      <td>Pakistan</td>\n",
              "      <td>Vegetables</td>\n",
              "      <td>1/13/2011</td>\n",
              "      <td>141515767</td>\n",
              "      <td>6515.0</td>\n",
              "      <td>154.06</td>\n",
              "      <td>90.93</td>\n",
              "      <td>1003700.90</td>\n",
              "      <td>592408.95</td>\n",
              "      <td>411291.95</td>\n",
              "    </tr>\n",
              "  </tbody>\n",
              "</table>\n",
              "</div>"
            ],
            "text/plain": [
              "                               Country  ... Total Profit\n",
              "Region                                  ...             \n",
              "Sub-Saharan Africa                Chad  ...    566105.00\n",
              "Europe                          Latvia  ...     16834.50\n",
              "Middle East and North Africa  Pakistan  ...    411291.95\n",
              "\n",
              "[3 rows x 10 columns]"
            ]
          },
          "metadata": {
            "tags": []
          },
          "execution_count": 12
        }
      ]
    },
    {
      "cell_type": "code",
      "metadata": {
        "id": "e8-BgCEUj86f",
        "colab_type": "code",
        "colab": {}
      },
      "source": [
        ""
      ],
      "execution_count": 0,
      "outputs": []
    },
    {
      "cell_type": "markdown",
      "metadata": {
        "id": "Iv1hxfNyj96-",
        "colab_type": "text"
      },
      "source": [
        "## **Summary statistics**\n"
      ]
    },
    {
      "cell_type": "code",
      "metadata": {
        "id": "Yt4QwsUikFeW",
        "colab_type": "code",
        "outputId": "d5709932-9e12-4f52-e528-a0bbc46c169e",
        "colab": {
          "base_uri": "https://localhost:8080/",
          "height": 287
        }
      },
      "source": [
        "sniggy.describe()"
      ],
      "execution_count": 0,
      "outputs": [
        {
          "output_type": "execute_result",
          "data": {
            "text/html": [
              "<div>\n",
              "<style scoped>\n",
              "    .dataframe tbody tr th:only-of-type {\n",
              "        vertical-align: middle;\n",
              "    }\n",
              "\n",
              "    .dataframe tbody tr th {\n",
              "        vertical-align: top;\n",
              "    }\n",
              "\n",
              "    .dataframe thead th {\n",
              "        text-align: right;\n",
              "    }\n",
              "</style>\n",
              "<table border=\"1\" class=\"dataframe\">\n",
              "  <thead>\n",
              "    <tr style=\"text-align: right;\">\n",
              "      <th></th>\n",
              "      <th>Order ID</th>\n",
              "      <th>Units Sold</th>\n",
              "      <th>Unit Price</th>\n",
              "      <th>Unit Cost</th>\n",
              "      <th>Total Revenue</th>\n",
              "      <th>Total Cost</th>\n",
              "      <th>Total Profit</th>\n",
              "    </tr>\n",
              "  </thead>\n",
              "  <tbody>\n",
              "    <tr>\n",
              "      <th>count</th>\n",
              "      <td>1.000000e+04</td>\n",
              "      <td>9991.000000</td>\n",
              "      <td>9990.000000</td>\n",
              "      <td>9995.000000</td>\n",
              "      <td>1.000000e+04</td>\n",
              "      <td>1.000000e+04</td>\n",
              "      <td>1.000000e+04</td>\n",
              "    </tr>\n",
              "    <tr>\n",
              "      <th>mean</th>\n",
              "      <td>5.498719e+08</td>\n",
              "      <td>5002.627765</td>\n",
              "      <td>268.234883</td>\n",
              "      <td>188.881757</td>\n",
              "      <td>1.333355e+06</td>\n",
              "      <td>9.382658e+05</td>\n",
              "      <td>3.950893e+05</td>\n",
              "    </tr>\n",
              "    <tr>\n",
              "      <th>std</th>\n",
              "      <td>2.607835e+08</td>\n",
              "      <td>2872.870720</td>\n",
              "      <td>218.005343</td>\n",
              "      <td>176.456610</td>\n",
              "      <td>1.465026e+06</td>\n",
              "      <td>1.145914e+06</td>\n",
              "      <td>3.775550e+05</td>\n",
              "    </tr>\n",
              "    <tr>\n",
              "      <th>min</th>\n",
              "      <td>1.000892e+08</td>\n",
              "      <td>2.000000</td>\n",
              "      <td>9.330000</td>\n",
              "      <td>6.920000</td>\n",
              "      <td>1.679400e+02</td>\n",
              "      <td>1.245600e+02</td>\n",
              "      <td>4.338000e+01</td>\n",
              "    </tr>\n",
              "    <tr>\n",
              "      <th>25%</th>\n",
              "      <td>3.218067e+08</td>\n",
              "      <td>2531.000000</td>\n",
              "      <td>109.280000</td>\n",
              "      <td>56.670000</td>\n",
              "      <td>2.885511e+05</td>\n",
              "      <td>1.647855e+05</td>\n",
              "      <td>9.832914e+04</td>\n",
              "    </tr>\n",
              "    <tr>\n",
              "      <th>50%</th>\n",
              "      <td>5.485663e+08</td>\n",
              "      <td>4963.000000</td>\n",
              "      <td>205.700000</td>\n",
              "      <td>117.110000</td>\n",
              "      <td>8.000512e+05</td>\n",
              "      <td>4.816058e+05</td>\n",
              "      <td>2.890990e+05</td>\n",
              "    </tr>\n",
              "    <tr>\n",
              "      <th>75%</th>\n",
              "      <td>7.759981e+08</td>\n",
              "      <td>7470.500000</td>\n",
              "      <td>437.200000</td>\n",
              "      <td>364.690000</td>\n",
              "      <td>1.819143e+06</td>\n",
              "      <td>1.183822e+06</td>\n",
              "      <td>5.664227e+05</td>\n",
              "    </tr>\n",
              "    <tr>\n",
              "      <th>max</th>\n",
              "      <td>9.999342e+08</td>\n",
              "      <td>10000.000000</td>\n",
              "      <td>668.270000</td>\n",
              "      <td>524.960000</td>\n",
              "      <td>6.680027e+06</td>\n",
              "      <td>5.241726e+06</td>\n",
              "      <td>1.738178e+06</td>\n",
              "    </tr>\n",
              "  </tbody>\n",
              "</table>\n",
              "</div>"
            ],
            "text/plain": [
              "           Order ID    Units Sold  ...    Total Cost  Total Profit\n",
              "count  1.000000e+04   9991.000000  ...  1.000000e+04  1.000000e+04\n",
              "mean   5.498719e+08   5002.627765  ...  9.382658e+05  3.950893e+05\n",
              "std    2.607835e+08   2872.870720  ...  1.145914e+06  3.775550e+05\n",
              "min    1.000892e+08      2.000000  ...  1.245600e+02  4.338000e+01\n",
              "25%    3.218067e+08   2531.000000  ...  1.647855e+05  9.832914e+04\n",
              "50%    5.485663e+08   4963.000000  ...  4.816058e+05  2.890990e+05\n",
              "75%    7.759981e+08   7470.500000  ...  1.183822e+06  5.664227e+05\n",
              "max    9.999342e+08  10000.000000  ...  5.241726e+06  1.738178e+06\n",
              "\n",
              "[8 rows x 7 columns]"
            ]
          },
          "metadata": {
            "tags": []
          },
          "execution_count": 13
        }
      ]
    },
    {
      "cell_type": "markdown",
      "metadata": {
        "id": "lMlCMDuglRcw",
        "colab_type": "text"
      },
      "source": [
        "## **Dropping columns**\n",
        "- using the drop method"
      ]
    },
    {
      "cell_type": "code",
      "metadata": {
        "id": "h5Tgrku0kFxU",
        "colab_type": "code",
        "outputId": "7bc5dc8d-115f-402c-e9a8-41395fc7d64c",
        "colab": {
          "base_uri": "https://localhost:8080/",
          "height": 137
        }
      },
      "source": [
        "sniggy1.drop(['Unit Cost'], axis=1, inplace=True)  \n",
        "\n",
        "sniggy.head(3)"
      ],
      "execution_count": 0,
      "outputs": [
        {
          "output_type": "execute_result",
          "data": {
            "text/html": [
              "<div>\n",
              "<style scoped>\n",
              "    .dataframe tbody tr th:only-of-type {\n",
              "        vertical-align: middle;\n",
              "    }\n",
              "\n",
              "    .dataframe tbody tr th {\n",
              "        vertical-align: top;\n",
              "    }\n",
              "\n",
              "    .dataframe thead th {\n",
              "        text-align: right;\n",
              "    }\n",
              "</style>\n",
              "<table border=\"1\" class=\"dataframe\">\n",
              "  <thead>\n",
              "    <tr style=\"text-align: right;\">\n",
              "      <th></th>\n",
              "      <th>Region</th>\n",
              "      <th>Country</th>\n",
              "      <th>Item Type</th>\n",
              "      <th>Order Date</th>\n",
              "      <th>Order ID</th>\n",
              "      <th>Units Sold</th>\n",
              "      <th>Unit Price</th>\n",
              "      <th>Unit Cost</th>\n",
              "      <th>Total Revenue</th>\n",
              "      <th>Total Cost</th>\n",
              "      <th>Total Profit</th>\n",
              "    </tr>\n",
              "  </thead>\n",
              "  <tbody>\n",
              "    <tr>\n",
              "      <th>0</th>\n",
              "      <td>Sub-Saharan Africa</td>\n",
              "      <td>Chad</td>\n",
              "      <td>Office Supplies</td>\n",
              "      <td>1/27/2011</td>\n",
              "      <td>292494523</td>\n",
              "      <td>4484.0</td>\n",
              "      <td>651.21</td>\n",
              "      <td>524.96</td>\n",
              "      <td>2920025.64</td>\n",
              "      <td>2353920.64</td>\n",
              "      <td>566105.00</td>\n",
              "    </tr>\n",
              "    <tr>\n",
              "      <th>1</th>\n",
              "      <td>Europe</td>\n",
              "      <td>Latvia</td>\n",
              "      <td>Beverages</td>\n",
              "      <td>12/28/2015</td>\n",
              "      <td>361825549</td>\n",
              "      <td>1075.0</td>\n",
              "      <td>47.45</td>\n",
              "      <td>31.79</td>\n",
              "      <td>51008.75</td>\n",
              "      <td>34174.25</td>\n",
              "      <td>16834.50</td>\n",
              "    </tr>\n",
              "    <tr>\n",
              "      <th>2</th>\n",
              "      <td>Middle East and North Africa</td>\n",
              "      <td>Pakistan</td>\n",
              "      <td>Vegetables</td>\n",
              "      <td>1/13/2011</td>\n",
              "      <td>141515767</td>\n",
              "      <td>6515.0</td>\n",
              "      <td>154.06</td>\n",
              "      <td>90.93</td>\n",
              "      <td>1003700.90</td>\n",
              "      <td>592408.95</td>\n",
              "      <td>411291.95</td>\n",
              "    </tr>\n",
              "  </tbody>\n",
              "</table>\n",
              "</div>"
            ],
            "text/plain": [
              "                         Region   Country  ...  Total Cost Total Profit\n",
              "0            Sub-Saharan Africa      Chad  ...  2353920.64    566105.00\n",
              "1                        Europe    Latvia  ...    34174.25     16834.50\n",
              "2  Middle East and North Africa  Pakistan  ...   592408.95    411291.95\n",
              "\n",
              "[3 rows x 11 columns]"
            ]
          },
          "metadata": {
            "tags": []
          },
          "execution_count": 14
        }
      ]
    },
    {
      "cell_type": "code",
      "metadata": {
        "id": "p60msdA9kWzF",
        "colab_type": "code",
        "colab": {}
      },
      "source": [
        ""
      ],
      "execution_count": 0,
      "outputs": []
    },
    {
      "cell_type": "markdown",
      "metadata": {
        "id": "crpVGXJKkX3c",
        "colab_type": "text"
      },
      "source": [
        "## **Dropping row**"
      ]
    },
    {
      "cell_type": "code",
      "metadata": {
        "id": "Vwz5MyojlDs-",
        "colab_type": "code",
        "outputId": "805d7b18-4546-4d52-d780-74988beed42f",
        "colab": {
          "base_uri": "https://localhost:8080/",
          "height": 137
        }
      },
      "source": [
        "sniggy1.drop(['Sub-Saharan Africa','Europe','Middle East and North Africa'], axis=0, inplace=True)  \n",
        "\n",
        "sniggy.head(3)"
      ],
      "execution_count": 0,
      "outputs": [
        {
          "output_type": "execute_result",
          "data": {
            "text/html": [
              "<div>\n",
              "<style scoped>\n",
              "    .dataframe tbody tr th:only-of-type {\n",
              "        vertical-align: middle;\n",
              "    }\n",
              "\n",
              "    .dataframe tbody tr th {\n",
              "        vertical-align: top;\n",
              "    }\n",
              "\n",
              "    .dataframe thead th {\n",
              "        text-align: right;\n",
              "    }\n",
              "</style>\n",
              "<table border=\"1\" class=\"dataframe\">\n",
              "  <thead>\n",
              "    <tr style=\"text-align: right;\">\n",
              "      <th></th>\n",
              "      <th>Region</th>\n",
              "      <th>Country</th>\n",
              "      <th>Item Type</th>\n",
              "      <th>Order Date</th>\n",
              "      <th>Order ID</th>\n",
              "      <th>Units Sold</th>\n",
              "      <th>Unit Price</th>\n",
              "      <th>Unit Cost</th>\n",
              "      <th>Total Revenue</th>\n",
              "      <th>Total Cost</th>\n",
              "      <th>Total Profit</th>\n",
              "    </tr>\n",
              "  </thead>\n",
              "  <tbody>\n",
              "    <tr>\n",
              "      <th>0</th>\n",
              "      <td>Sub-Saharan Africa</td>\n",
              "      <td>Chad</td>\n",
              "      <td>Office Supplies</td>\n",
              "      <td>1/27/2011</td>\n",
              "      <td>292494523</td>\n",
              "      <td>4484.0</td>\n",
              "      <td>651.21</td>\n",
              "      <td>524.96</td>\n",
              "      <td>2920025.64</td>\n",
              "      <td>2353920.64</td>\n",
              "      <td>566105.00</td>\n",
              "    </tr>\n",
              "    <tr>\n",
              "      <th>1</th>\n",
              "      <td>Europe</td>\n",
              "      <td>Latvia</td>\n",
              "      <td>Beverages</td>\n",
              "      <td>12/28/2015</td>\n",
              "      <td>361825549</td>\n",
              "      <td>1075.0</td>\n",
              "      <td>47.45</td>\n",
              "      <td>31.79</td>\n",
              "      <td>51008.75</td>\n",
              "      <td>34174.25</td>\n",
              "      <td>16834.50</td>\n",
              "    </tr>\n",
              "    <tr>\n",
              "      <th>2</th>\n",
              "      <td>Middle East and North Africa</td>\n",
              "      <td>Pakistan</td>\n",
              "      <td>Vegetables</td>\n",
              "      <td>1/13/2011</td>\n",
              "      <td>141515767</td>\n",
              "      <td>6515.0</td>\n",
              "      <td>154.06</td>\n",
              "      <td>90.93</td>\n",
              "      <td>1003700.90</td>\n",
              "      <td>592408.95</td>\n",
              "      <td>411291.95</td>\n",
              "    </tr>\n",
              "  </tbody>\n",
              "</table>\n",
              "</div>"
            ],
            "text/plain": [
              "                         Region   Country  ...  Total Cost Total Profit\n",
              "0            Sub-Saharan Africa      Chad  ...  2353920.64    566105.00\n",
              "1                        Europe    Latvia  ...    34174.25     16834.50\n",
              "2  Middle East and North Africa  Pakistan  ...   592408.95    411291.95\n",
              "\n",
              "[3 rows x 11 columns]"
            ]
          },
          "metadata": {
            "tags": []
          },
          "execution_count": 15
        }
      ]
    },
    {
      "cell_type": "code",
      "metadata": {
        "id": "EumQDpfHlEBM",
        "colab_type": "code",
        "colab": {}
      },
      "source": [
        ""
      ],
      "execution_count": 0,
      "outputs": []
    },
    {
      "cell_type": "markdown",
      "metadata": {
        "id": "oClcOf0Yvbje",
        "colab_type": "text"
      },
      "source": [
        "## **Frequency distribution**\n",
        "- using method value_counts for getting the distribution of values for categories"
      ]
    },
    {
      "cell_type": "code",
      "metadata": {
        "id": "E_VdDFaiv3Tz",
        "colab_type": "code",
        "outputId": "cb6e5558-e3b7-422d-e594-a4f6931ef1fa",
        "colab": {
          "base_uri": "https://localhost:8080/",
          "height": 230
        }
      },
      "source": [
        "sniggy1['Total Profit'].value_counts()       "
      ],
      "execution_count": 0,
      "outputs": [
        {
          "output_type": "execute_result",
          "data": {
            "text/plain": [
              "370578.24     6\n",
              "874737.66     4\n",
              "332389.44     4\n",
              "897633.04     4\n",
              "507343.14     4\n",
              "             ..\n",
              "373738.92     2\n",
              "97530.48      2\n",
              "392605.47     2\n",
              "1157712.50    2\n",
              "478535.04     2\n",
              "Name: Total Profit, Length: 3441, dtype: int64"
            ]
          },
          "metadata": {
            "tags": []
          },
          "execution_count": 16
        }
      ]
    },
    {
      "cell_type": "code",
      "metadata": {
        "id": "9EAFVbApv3nB",
        "colab_type": "code",
        "colab": {}
      },
      "source": [
        ""
      ],
      "execution_count": 0,
      "outputs": []
    },
    {
      "cell_type": "markdown",
      "metadata": {
        "id": "nEmrbdplv4RS",
        "colab_type": "text"
      },
      "source": [
        "## **loc (to subset data by Row/Column labels)**"
      ]
    },
    {
      "cell_type": "code",
      "metadata": {
        "id": "mo3EB44EwFPf",
        "colab_type": "code",
        "outputId": "380aa163-067b-4a73-c43d-3fea4fbcb0c0",
        "colab": {
          "base_uri": "https://localhost:8080/",
          "height": 167
        }
      },
      "source": [
        "subset1 = sniggy1.loc[:,['Total Revenue','Total Profit']]\n",
        "subset1.head(3)"
      ],
      "execution_count": 0,
      "outputs": [
        {
          "output_type": "execute_result",
          "data": {
            "text/html": [
              "<div>\n",
              "<style scoped>\n",
              "    .dataframe tbody tr th:only-of-type {\n",
              "        vertical-align: middle;\n",
              "    }\n",
              "\n",
              "    .dataframe tbody tr th {\n",
              "        vertical-align: top;\n",
              "    }\n",
              "\n",
              "    .dataframe thead th {\n",
              "        text-align: right;\n",
              "    }\n",
              "</style>\n",
              "<table border=\"1\" class=\"dataframe\">\n",
              "  <thead>\n",
              "    <tr style=\"text-align: right;\">\n",
              "      <th></th>\n",
              "      <th>Total Revenue</th>\n",
              "      <th>Total Profit</th>\n",
              "    </tr>\n",
              "    <tr>\n",
              "      <th>Region</th>\n",
              "      <th></th>\n",
              "      <th></th>\n",
              "    </tr>\n",
              "  </thead>\n",
              "  <tbody>\n",
              "    <tr>\n",
              "      <th>Asia</th>\n",
              "      <td>743339.50</td>\n",
              "      <td>304602.25</td>\n",
              "    </tr>\n",
              "    <tr>\n",
              "      <th>Asia</th>\n",
              "      <td>850082.40</td>\n",
              "      <td>319213.80</td>\n",
              "    </tr>\n",
              "    <tr>\n",
              "      <th>Central America and the Caribbean</th>\n",
              "      <td>4035548.37</td>\n",
              "      <td>782371.25</td>\n",
              "    </tr>\n",
              "  </tbody>\n",
              "</table>\n",
              "</div>"
            ],
            "text/plain": [
              "                                   Total Revenue  Total Profit\n",
              "Region                                                        \n",
              "Asia                                   743339.50     304602.25\n",
              "Asia                                   850082.40     319213.80\n",
              "Central America and the Caribbean     4035548.37     782371.25"
            ]
          },
          "metadata": {
            "tags": []
          },
          "execution_count": 17
        }
      ]
    },
    {
      "cell_type": "code",
      "metadata": {
        "id": "irfklMDKwFUs",
        "colab_type": "code",
        "colab": {}
      },
      "source": [
        ""
      ],
      "execution_count": 0,
      "outputs": []
    },
    {
      "cell_type": "code",
      "metadata": {
        "id": "R9dYWSHiwQhw",
        "colab_type": "code",
        "outputId": "e00ce7e8-8ea8-400a-ecd1-8746e47308a4",
        "colab": {
          "base_uri": "https://localhost:8080/",
          "height": 292
        }
      },
      "source": [
        "subset2 = sniggy1.loc[['Asia','Central America','Australia and Oceania'],['Total Revenue','Total Profit']]\n",
        "subset2.head(3)"
      ],
      "execution_count": 0,
      "outputs": [
        {
          "output_type": "stream",
          "text": [
            "/usr/local/lib/python3.6/dist-packages/pandas/core/indexing.py:1418: FutureWarning: \n",
            "Passing list-likes to .loc or [] with any missing label will raise\n",
            "KeyError in the future, you can use .reindex() as an alternative.\n",
            "\n",
            "See the documentation here:\n",
            "https://pandas.pydata.org/pandas-docs/stable/user_guide/indexing.html#deprecate-loc-reindex-listlike\n",
            "  return self._getitem_tuple(key)\n"
          ],
          "name": "stderr"
        },
        {
          "output_type": "execute_result",
          "data": {
            "text/html": [
              "<div>\n",
              "<style scoped>\n",
              "    .dataframe tbody tr th:only-of-type {\n",
              "        vertical-align: middle;\n",
              "    }\n",
              "\n",
              "    .dataframe tbody tr th {\n",
              "        vertical-align: top;\n",
              "    }\n",
              "\n",
              "    .dataframe thead th {\n",
              "        text-align: right;\n",
              "    }\n",
              "</style>\n",
              "<table border=\"1\" class=\"dataframe\">\n",
              "  <thead>\n",
              "    <tr style=\"text-align: right;\">\n",
              "      <th></th>\n",
              "      <th>Total Revenue</th>\n",
              "      <th>Total Profit</th>\n",
              "    </tr>\n",
              "    <tr>\n",
              "      <th>Region</th>\n",
              "      <th></th>\n",
              "      <th></th>\n",
              "    </tr>\n",
              "  </thead>\n",
              "  <tbody>\n",
              "    <tr>\n",
              "      <th>Asia</th>\n",
              "      <td>743339.50</td>\n",
              "      <td>304602.25</td>\n",
              "    </tr>\n",
              "    <tr>\n",
              "      <th>Asia</th>\n",
              "      <td>850082.40</td>\n",
              "      <td>319213.80</td>\n",
              "    </tr>\n",
              "    <tr>\n",
              "      <th>Asia</th>\n",
              "      <td>3567225.26</td>\n",
              "      <td>884666.74</td>\n",
              "    </tr>\n",
              "  </tbody>\n",
              "</table>\n",
              "</div>"
            ],
            "text/plain": [
              "        Total Revenue  Total Profit\n",
              "Region                             \n",
              "Asia        743339.50     304602.25\n",
              "Asia        850082.40     319213.80\n",
              "Asia       3567225.26     884666.74"
            ]
          },
          "metadata": {
            "tags": []
          },
          "execution_count": 18
        }
      ]
    },
    {
      "cell_type": "markdown",
      "metadata": {
        "id": "stu_g30wrI52",
        "colab_type": "text"
      },
      "source": [
        "## **iloc    (to subset data based on Row/Column number)**"
      ]
    },
    {
      "cell_type": "code",
      "metadata": {
        "id": "ubgzg9VrwQlQ",
        "colab_type": "code",
        "outputId": "8f7ea6db-ac70-4265-dddb-dd2e8735266f",
        "colab": {
          "base_uri": "https://localhost:8080/",
          "height": 137
        }
      },
      "source": [
        "sniggy.iloc[50:53,1:5]"
      ],
      "execution_count": 0,
      "outputs": [
        {
          "output_type": "execute_result",
          "data": {
            "text/html": [
              "<div>\n",
              "<style scoped>\n",
              "    .dataframe tbody tr th:only-of-type {\n",
              "        vertical-align: middle;\n",
              "    }\n",
              "\n",
              "    .dataframe tbody tr th {\n",
              "        vertical-align: top;\n",
              "    }\n",
              "\n",
              "    .dataframe thead th {\n",
              "        text-align: right;\n",
              "    }\n",
              "</style>\n",
              "<table border=\"1\" class=\"dataframe\">\n",
              "  <thead>\n",
              "    <tr style=\"text-align: right;\">\n",
              "      <th></th>\n",
              "      <th>Country</th>\n",
              "      <th>Item Type</th>\n",
              "      <th>Order Date</th>\n",
              "      <th>Order ID</th>\n",
              "    </tr>\n",
              "  </thead>\n",
              "  <tbody>\n",
              "    <tr>\n",
              "      <th>50</th>\n",
              "      <td>Slovenia</td>\n",
              "      <td>Cosmetics</td>\n",
              "      <td>9/30/2010</td>\n",
              "      <td>574837148</td>\n",
              "    </tr>\n",
              "    <tr>\n",
              "      <th>51</th>\n",
              "      <td>Samoa</td>\n",
              "      <td>Clothes</td>\n",
              "      <td>11/5/2010</td>\n",
              "      <td>365692222</td>\n",
              "    </tr>\n",
              "    <tr>\n",
              "      <th>52</th>\n",
              "      <td>South Africa</td>\n",
              "      <td>Cereal</td>\n",
              "      <td>7/21/2017</td>\n",
              "      <td>289660394</td>\n",
              "    </tr>\n",
              "  </tbody>\n",
              "</table>\n",
              "</div>"
            ],
            "text/plain": [
              "         Country  Item Type Order Date   Order ID\n",
              "50      Slovenia  Cosmetics  9/30/2010  574837148\n",
              "51         Samoa    Clothes  11/5/2010  365692222\n",
              "52  South Africa     Cereal  7/21/2017  289660394"
            ]
          },
          "metadata": {
            "tags": []
          },
          "execution_count": 19
        }
      ]
    },
    {
      "cell_type": "markdown",
      "metadata": {
        "id": "oulPF1YmwRIt",
        "colab_type": "text"
      },
      "source": [
        "## **Boolean indexing (to subset based on value in each cell of the column )**"
      ]
    },
    {
      "cell_type": "code",
      "metadata": {
        "id": "SsXDhPd0v3QQ",
        "colab_type": "code",
        "outputId": "fc3e2bce-f54e-4023-8dc5-bedff2e4c291",
        "colab": {
          "base_uri": "https://localhost:8080/",
          "height": 137
        }
      },
      "source": [
        "subset3 = sniggy.loc[sniggy['Item Type']=='Clothes',:]\n",
        "subset3.head(3)"
      ],
      "execution_count": 0,
      "outputs": [
        {
          "output_type": "execute_result",
          "data": {
            "text/html": [
              "<div>\n",
              "<style scoped>\n",
              "    .dataframe tbody tr th:only-of-type {\n",
              "        vertical-align: middle;\n",
              "    }\n",
              "\n",
              "    .dataframe tbody tr th {\n",
              "        vertical-align: top;\n",
              "    }\n",
              "\n",
              "    .dataframe thead th {\n",
              "        text-align: right;\n",
              "    }\n",
              "</style>\n",
              "<table border=\"1\" class=\"dataframe\">\n",
              "  <thead>\n",
              "    <tr style=\"text-align: right;\">\n",
              "      <th></th>\n",
              "      <th>Region</th>\n",
              "      <th>Country</th>\n",
              "      <th>Item Type</th>\n",
              "      <th>Order Date</th>\n",
              "      <th>Order ID</th>\n",
              "      <th>Units Sold</th>\n",
              "      <th>Unit Price</th>\n",
              "      <th>Unit Cost</th>\n",
              "      <th>Total Revenue</th>\n",
              "      <th>Total Cost</th>\n",
              "      <th>Total Profit</th>\n",
              "    </tr>\n",
              "  </thead>\n",
              "  <tbody>\n",
              "    <tr>\n",
              "      <th>14</th>\n",
              "      <td>Middle East and North Africa</td>\n",
              "      <td>Algeria</td>\n",
              "      <td>Clothes</td>\n",
              "      <td>6/21/2011</td>\n",
              "      <td>181401288</td>\n",
              "      <td>9527.0</td>\n",
              "      <td>109.28</td>\n",
              "      <td>35.84</td>\n",
              "      <td>1041110.56</td>\n",
              "      <td>341447.68</td>\n",
              "      <td>699662.88</td>\n",
              "    </tr>\n",
              "    <tr>\n",
              "      <th>26</th>\n",
              "      <td>Europe</td>\n",
              "      <td>Greece</td>\n",
              "      <td>Clothes</td>\n",
              "      <td>10/9/2016</td>\n",
              "      <td>510666692</td>\n",
              "      <td>6477.0</td>\n",
              "      <td>109.28</td>\n",
              "      <td>35.84</td>\n",
              "      <td>707806.56</td>\n",
              "      <td>232135.68</td>\n",
              "      <td>475670.88</td>\n",
              "    </tr>\n",
              "    <tr>\n",
              "      <th>41</th>\n",
              "      <td>Asia</td>\n",
              "      <td>Bhutan</td>\n",
              "      <td>Clothes</td>\n",
              "      <td>3/18/2012</td>\n",
              "      <td>671986758</td>\n",
              "      <td>4670.0</td>\n",
              "      <td>109.28</td>\n",
              "      <td>35.84</td>\n",
              "      <td>510337.60</td>\n",
              "      <td>167372.80</td>\n",
              "      <td>342964.80</td>\n",
              "    </tr>\n",
              "  </tbody>\n",
              "</table>\n",
              "</div>"
            ],
            "text/plain": [
              "                          Region  Country  ... Total Cost Total Profit\n",
              "14  Middle East and North Africa  Algeria  ...  341447.68    699662.88\n",
              "26                        Europe   Greece  ...  232135.68    475670.88\n",
              "41                          Asia   Bhutan  ...  167372.80    342964.80\n",
              "\n",
              "[3 rows x 11 columns]"
            ]
          },
          "metadata": {
            "tags": []
          },
          "execution_count": 20
        }
      ]
    },
    {
      "cell_type": "markdown",
      "metadata": {
        "id": "1wsvGRrqwc4y",
        "colab_type": "text"
      },
      "source": [
        "## **Piping of functions (for multiple criteria subsetting)**"
      ]
    },
    {
      "cell_type": "code",
      "metadata": {
        "id": "Zd72S_Kpwl-5",
        "colab_type": "code",
        "outputId": "83d8c792-8c0d-4e7f-db19-f033b5bb8309",
        "colab": {
          "base_uri": "https://localhost:8080/",
          "height": 137
        }
      },
      "source": [
        "subset4 = sniggy.loc[sniggy['Item Type']=='Beverages',:].loc[sniggy['Region']=='Asia',:].loc[:,['Region','Country','Total Profit','Item Type']]\n",
        "subset4.head(3)"
      ],
      "execution_count": 0,
      "outputs": [
        {
          "output_type": "execute_result",
          "data": {
            "text/html": [
              "<div>\n",
              "<style scoped>\n",
              "    .dataframe tbody tr th:only-of-type {\n",
              "        vertical-align: middle;\n",
              "    }\n",
              "\n",
              "    .dataframe tbody tr th {\n",
              "        vertical-align: top;\n",
              "    }\n",
              "\n",
              "    .dataframe thead th {\n",
              "        text-align: right;\n",
              "    }\n",
              "</style>\n",
              "<table border=\"1\" class=\"dataframe\">\n",
              "  <thead>\n",
              "    <tr style=\"text-align: right;\">\n",
              "      <th></th>\n",
              "      <th>Region</th>\n",
              "      <th>Country</th>\n",
              "      <th>Total Profit</th>\n",
              "      <th>Item Type</th>\n",
              "    </tr>\n",
              "  </thead>\n",
              "  <tbody>\n",
              "    <tr>\n",
              "      <th>107</th>\n",
              "      <td>Asia</td>\n",
              "      <td>Taiwan</td>\n",
              "      <td>27279.72</td>\n",
              "      <td>Beverages</td>\n",
              "    </tr>\n",
              "    <tr>\n",
              "      <th>240</th>\n",
              "      <td>Asia</td>\n",
              "      <td>Brunei</td>\n",
              "      <td>30537.00</td>\n",
              "      <td>Beverages</td>\n",
              "    </tr>\n",
              "    <tr>\n",
              "      <th>315</th>\n",
              "      <td>Asia</td>\n",
              "      <td>Mongolia</td>\n",
              "      <td>121192.74</td>\n",
              "      <td>Beverages</td>\n",
              "    </tr>\n",
              "  </tbody>\n",
              "</table>\n",
              "</div>"
            ],
            "text/plain": [
              "    Region   Country  Total Profit  Item Type\n",
              "107   Asia    Taiwan      27279.72  Beverages\n",
              "240   Asia    Brunei      30537.00  Beverages\n",
              "315   Asia  Mongolia     121192.74  Beverages"
            ]
          },
          "metadata": {
            "tags": []
          },
          "execution_count": 21
        }
      ]
    },
    {
      "cell_type": "code",
      "metadata": {
        "id": "a154htOcwmHJ",
        "colab_type": "code",
        "colab": {}
      },
      "source": [
        ""
      ],
      "execution_count": 0,
      "outputs": []
    },
    {
      "cell_type": "markdown",
      "metadata": {
        "id": "mmDVtKzlwmom",
        "colab_type": "text"
      },
      "source": [
        "## **Replace specific values**"
      ]
    },
    {
      "cell_type": "code",
      "metadata": {
        "id": "v2MEKgaNxLsb",
        "colab_type": "code",
        "outputId": "e61d7381-782f-4a54-eb08-f9f205c439ad",
        "colab": {
          "base_uri": "https://localhost:8080/",
          "height": 230
        }
      },
      "source": [
        "sniggy['Total Profit'].value_counts()"
      ],
      "execution_count": 0,
      "outputs": [
        {
          "output_type": "execute_result",
          "data": {
            "text/plain": [
              "222006.54    3\n",
              "332389.44    3\n",
              "370578.24    3\n",
              "301130.10    3\n",
              "588813.51    3\n",
              "            ..\n",
              "530201.66    1\n",
              "827253.42    1\n",
              "5934.22      1\n",
              "86803.38     1\n",
              "473730.40    1\n",
              "Name: Total Profit, Length: 9598, dtype: int64"
            ]
          },
          "metadata": {
            "tags": []
          },
          "execution_count": 22
        }
      ]
    },
    {
      "cell_type": "code",
      "metadata": {
        "id": "sfG908pmxL2P",
        "colab_type": "code",
        "outputId": "b377d7c1-bb8f-4ea4-9b1e-52f0fb2ad6bc",
        "colab": {
          "base_uri": "https://localhost:8080/",
          "height": 230
        }
      },
      "source": [
        "sniggy_updated=sniggy1.replace({'clothes':'cereal'}, inplace=False)\n",
        "\n",
        "sniggy_updated['Total Profit'].value_counts()"
      ],
      "execution_count": 0,
      "outputs": [
        {
          "output_type": "execute_result",
          "data": {
            "text/plain": [
              "370578.24     6\n",
              "874737.66     4\n",
              "332389.44     4\n",
              "897633.04     4\n",
              "507343.14     4\n",
              "             ..\n",
              "373738.92     2\n",
              "97530.48      2\n",
              "392605.47     2\n",
              "1157712.50    2\n",
              "478535.04     2\n",
              "Name: Total Profit, Length: 3441, dtype: int64"
            ]
          },
          "metadata": {
            "tags": []
          },
          "execution_count": 23
        }
      ]
    },
    {
      "cell_type": "markdown",
      "metadata": {
        "id": "k7V2I8u8eJm1",
        "colab_type": "text"
      },
      "source": [
        "#                                                     **BOX PLOT**"
      ]
    },
    {
      "cell_type": "code",
      "metadata": {
        "id": "yBb_HG-VxkYe",
        "colab_type": "code",
        "outputId": "22f6e542-3c22-4806-e6c4-02887583a035",
        "colab": {
          "base_uri": "https://localhost:8080/",
          "height": 282
        }
      },
      "source": [
        "sniggy.plot(x=\"Country\",y=\"Unit Cost\",kind=\"box\")"
      ],
      "execution_count": 0,
      "outputs": [
        {
          "output_type": "execute_result",
          "data": {
            "text/plain": [
              "<matplotlib.axes._subplots.AxesSubplot at 0x7fbb7dca44a8>"
            ]
          },
          "metadata": {
            "tags": []
          },
          "execution_count": 24
        },
        {
          "output_type": "display_data",
          "data": {
            "image/png": "[encoded data removed]",
            "text/plain": [
              "<Figure size 432x288 with 1 Axes>"
            ]
          },
          "metadata": {
            "tags": []
          }
        }
      ]
    },
    {
      "cell_type": "markdown",
      "metadata": {
        "id": "X-FmuuLWfkYS",
        "colab_type": "text"
      },
      "source": [
        "# SCATTER PLOT"
      ]
    },
    {
      "cell_type": "code",
      "metadata": {
        "id": "NfiT4lKId6ej",
        "colab_type": "code",
        "outputId": "b6583951-f5c4-4f14-ca6b-2a9eec5d1124",
        "colab": {
          "base_uri": "https://localhost:8080/",
          "height": 301
        }
      },
      "source": [
        "sniggy.plot(x=\"Unit Cost\",y=\"Unit Price\",kind=\"scatter\")"
      ],
      "execution_count": 0,
      "outputs": [
        {
          "output_type": "execute_result",
          "data": {
            "text/plain": [
              "<matplotlib.axes._subplots.AxesSubplot at 0x7fbb7dc3bcf8>"
            ]
          },
          "metadata": {
            "tags": []
          },
          "execution_count": 25
        },
        {
          "output_type": "display_data",
          "data": {
            "image/png": "[encoded data removed]",
            "text/plain": [
              "<Figure size 432x288 with 1 Axes>"
            ]
          },
          "metadata": {
            "tags": []
          }
        }
      ]
    },
    {
      "cell_type": "markdown",
      "metadata": {
        "id": "v3etEcDRPAa9",
        "colab_type": "text"
      },
      "source": [
        "# **BAR CHART**"
      ]
    },
    {
      "cell_type": "code",
      "metadata": {
        "id": "i01-Gr0aItsp",
        "colab_type": "code",
        "outputId": "9816d4cd-1878-4bbb-c81e-38ae34fc6590",
        "colab": {
          "base_uri": "https://localhost:8080/",
          "height": 325
        }
      },
      "source": [
        "sniggy.plot(x=\"Unit Cost\",y=\"Unit Price\",kind=\"bar\")"
      ],
      "execution_count": 0,
      "outputs": [
        {
          "output_type": "execute_result",
          "data": {
            "text/plain": [
              "<matplotlib.axes._subplots.AxesSubplot at 0x7fbb6d8a69e8>"
            ]
          },
          "metadata": {
            "tags": []
          },
          "execution_count": 28
        },
        {
          "output_type": "display_data",
          "data": {
            "image/png": "[encoded data removed]",
            "text/plain": [
              "<Figure size 432x288 with 1 Axes>"
            ]
          },
          "metadata": {
            "tags": []
          }
        }
      ]
    },
    {
      "cell_type": "markdown",
      "metadata": {
        "id": "d22wLh748SHG",
        "colab_type": "text"
      },
      "source": [
        "#**Central Tendency**"
      ]
    },
    {
      "cell_type": "code",
      "metadata": {
        "id": "TEtOvVxc8ee6",
        "colab_type": "code",
        "outputId": "0d4148d8-8882-4485-e688-ed1bb610a2ff",
        "colab": {
          "base_uri": "https://localhost:8080/",
          "height": 158
        }
      },
      "source": [
        "sniggy.mean()"
      ],
      "execution_count": 0,
      "outputs": [
        {
          "output_type": "execute_result",
          "data": {
            "text/plain": [
              "Order ID         5.498719e+08\n",
              "Units Sold       5.002628e+03\n",
              "Unit Price       2.682349e+02\n",
              "Unit Cost        1.888818e+02\n",
              "Total Revenue    1.333355e+06\n",
              "Total Cost       9.382658e+05\n",
              "Total Profit     3.950893e+05\n",
              "dtype: float64"
            ]
          },
          "metadata": {
            "tags": []
          },
          "execution_count": 29
        }
      ]
    },
    {
      "cell_type": "code",
      "metadata": {
        "id": "poUlLplW8hl3",
        "colab_type": "code",
        "outputId": "6cc16074-b57e-40d4-f693-e78caa0f1a9e",
        "colab": {
          "base_uri": "https://localhost:8080/",
          "height": 158
        }
      },
      "source": [
        "sniggy.median()"
      ],
      "execution_count": 0,
      "outputs": [
        {
          "output_type": "execute_result",
          "data": {
            "text/plain": [
              "Order ID         5.485663e+08\n",
              "Units Sold       4.963000e+03\n",
              "Unit Price       2.057000e+02\n",
              "Unit Cost        1.171100e+02\n",
              "Total Revenue    8.000512e+05\n",
              "Total Cost       4.816058e+05\n",
              "Total Profit     2.890990e+05\n",
              "dtype: float64"
            ]
          },
          "metadata": {
            "tags": []
          },
          "execution_count": 30
        }
      ]
    },
    {
      "cell_type": "code",
      "metadata": {
        "id": "sNmDnt9d_tYi",
        "colab_type": "code",
        "outputId": "7828e4c4-5447-40eb-f210-86b4a09ca69e",
        "colab": {
          "base_uri": "https://localhost:8080/",
          "height": 406
        }
      },
      "source": [
        "sniggy.mode()"
      ],
      "execution_count": 0,
      "outputs": [
        {
          "output_type": "execute_result",
          "data": {
            "text/html": [
              "<div>\n",
              "<style scoped>\n",
              "    .dataframe tbody tr th:only-of-type {\n",
              "        vertical-align: middle;\n",
              "    }\n",
              "\n",
              "    .dataframe tbody tr th {\n",
              "        vertical-align: top;\n",
              "    }\n",
              "\n",
              "    .dataframe thead th {\n",
              "        text-align: right;\n",
              "    }\n",
              "</style>\n",
              "<table border=\"1\" class=\"dataframe\">\n",
              "  <thead>\n",
              "    <tr style=\"text-align: right;\">\n",
              "      <th></th>\n",
              "      <th>Region</th>\n",
              "      <th>Country</th>\n",
              "      <th>Item Type</th>\n",
              "      <th>Order Date</th>\n",
              "      <th>Order ID</th>\n",
              "      <th>Units Sold</th>\n",
              "      <th>Unit Price</th>\n",
              "      <th>Unit Cost</th>\n",
              "      <th>Total Revenue</th>\n",
              "      <th>Total Cost</th>\n",
              "      <th>Total Profit</th>\n",
              "    </tr>\n",
              "  </thead>\n",
              "  <tbody>\n",
              "    <tr>\n",
              "      <th>0</th>\n",
              "      <td>Europe</td>\n",
              "      <td>Lithuania</td>\n",
              "      <td>Personal Care</td>\n",
              "      <td>1/28/2012</td>\n",
              "      <td>100089156</td>\n",
              "      <td>788.0</td>\n",
              "      <td>81.73</td>\n",
              "      <td>56.67</td>\n",
              "      <td>494601.28</td>\n",
              "      <td>162211.84</td>\n",
              "      <td>222006.54</td>\n",
              "    </tr>\n",
              "    <tr>\n",
              "      <th>1</th>\n",
              "      <td>NaN</td>\n",
              "      <td>United Kingdom</td>\n",
              "      <td>NaN</td>\n",
              "      <td>NaN</td>\n",
              "      <td>100168120</td>\n",
              "      <td>1770.0</td>\n",
              "      <td>NaN</td>\n",
              "      <td>NaN</td>\n",
              "      <td>551426.88</td>\n",
              "      <td>180848.64</td>\n",
              "      <td>301130.10</td>\n",
              "    </tr>\n",
              "    <tr>\n",
              "      <th>2</th>\n",
              "      <td>NaN</td>\n",
              "      <td>NaN</td>\n",
              "      <td>NaN</td>\n",
              "      <td>NaN</td>\n",
              "      <td>100200736</td>\n",
              "      <td>4526.0</td>\n",
              "      <td>NaN</td>\n",
              "      <td>NaN</td>\n",
              "      <td>724046.07</td>\n",
              "      <td>433736.10</td>\n",
              "      <td>332389.44</td>\n",
              "    </tr>\n",
              "    <tr>\n",
              "      <th>3</th>\n",
              "      <td>NaN</td>\n",
              "      <td>NaN</td>\n",
              "      <td>NaN</td>\n",
              "      <td>NaN</td>\n",
              "      <td>100315320</td>\n",
              "      <td>4659.0</td>\n",
              "      <td>NaN</td>\n",
              "      <td>NaN</td>\n",
              "      <td>734866.20</td>\n",
              "      <td>502039.53</td>\n",
              "      <td>370578.24</td>\n",
              "    </tr>\n",
              "    <tr>\n",
              "      <th>4</th>\n",
              "      <td>NaN</td>\n",
              "      <td>NaN</td>\n",
              "      <td>NaN</td>\n",
              "      <td>NaN</td>\n",
              "      <td>100435912</td>\n",
              "      <td>5721.0</td>\n",
              "      <td>NaN</td>\n",
              "      <td>NaN</td>\n",
              "      <td>930830.52</td>\n",
              "      <td>549399.06</td>\n",
              "      <td>381431.46</td>\n",
              "    </tr>\n",
              "    <tr>\n",
              "      <th>...</th>\n",
              "      <td>...</td>\n",
              "      <td>...</td>\n",
              "      <td>...</td>\n",
              "      <td>...</td>\n",
              "      <td>...</td>\n",
              "      <td>...</td>\n",
              "      <td>...</td>\n",
              "      <td>...</td>\n",
              "      <td>...</td>\n",
              "      <td>...</td>\n",
              "      <td>...</td>\n",
              "    </tr>\n",
              "    <tr>\n",
              "      <th>9995</th>\n",
              "      <td>NaN</td>\n",
              "      <td>NaN</td>\n",
              "      <td>NaN</td>\n",
              "      <td>NaN</td>\n",
              "      <td>999796044</td>\n",
              "      <td>NaN</td>\n",
              "      <td>NaN</td>\n",
              "      <td>NaN</td>\n",
              "      <td>NaN</td>\n",
              "      <td>NaN</td>\n",
              "      <td>NaN</td>\n",
              "    </tr>\n",
              "    <tr>\n",
              "      <th>9996</th>\n",
              "      <td>NaN</td>\n",
              "      <td>NaN</td>\n",
              "      <td>NaN</td>\n",
              "      <td>NaN</td>\n",
              "      <td>999807631</td>\n",
              "      <td>NaN</td>\n",
              "      <td>NaN</td>\n",
              "      <td>NaN</td>\n",
              "      <td>NaN</td>\n",
              "      <td>NaN</td>\n",
              "      <td>NaN</td>\n",
              "    </tr>\n",
              "    <tr>\n",
              "      <th>9997</th>\n",
              "      <td>NaN</td>\n",
              "      <td>NaN</td>\n",
              "      <td>NaN</td>\n",
              "      <td>NaN</td>\n",
              "      <td>999850976</td>\n",
              "      <td>NaN</td>\n",
              "      <td>NaN</td>\n",
              "      <td>NaN</td>\n",
              "      <td>NaN</td>\n",
              "      <td>NaN</td>\n",
              "      <td>NaN</td>\n",
              "    </tr>\n",
              "    <tr>\n",
              "      <th>9998</th>\n",
              "      <td>NaN</td>\n",
              "      <td>NaN</td>\n",
              "      <td>NaN</td>\n",
              "      <td>NaN</td>\n",
              "      <td>999896037</td>\n",
              "      <td>NaN</td>\n",
              "      <td>NaN</td>\n",
              "      <td>NaN</td>\n",
              "      <td>NaN</td>\n",
              "      <td>NaN</td>\n",
              "      <td>NaN</td>\n",
              "    </tr>\n",
              "    <tr>\n",
              "      <th>9999</th>\n",
              "      <td>NaN</td>\n",
              "      <td>NaN</td>\n",
              "      <td>NaN</td>\n",
              "      <td>NaN</td>\n",
              "      <td>999934232</td>\n",
              "      <td>NaN</td>\n",
              "      <td>NaN</td>\n",
              "      <td>NaN</td>\n",
              "      <td>NaN</td>\n",
              "      <td>NaN</td>\n",
              "      <td>NaN</td>\n",
              "    </tr>\n",
              "  </tbody>\n",
              "</table>\n",
              "<p>10000 rows × 11 columns</p>\n",
              "</div>"
            ],
            "text/plain": [
              "      Region         Country  ... Total Cost Total Profit\n",
              "0     Europe       Lithuania  ...  162211.84    222006.54\n",
              "1        NaN  United Kingdom  ...  180848.64    301130.10\n",
              "2        NaN             NaN  ...  433736.10    332389.44\n",
              "3        NaN             NaN  ...  502039.53    370578.24\n",
              "4        NaN             NaN  ...  549399.06    381431.46\n",
              "...      ...             ...  ...        ...          ...\n",
              "9995     NaN             NaN  ...        NaN          NaN\n",
              "9996     NaN             NaN  ...        NaN          NaN\n",
              "9997     NaN             NaN  ...        NaN          NaN\n",
              "9998     NaN             NaN  ...        NaN          NaN\n",
              "9999     NaN             NaN  ...        NaN          NaN\n",
              "\n",
              "[10000 rows x 11 columns]"
            ]
          },
          "metadata": {
            "tags": []
          },
          "execution_count": 31
        }
      ]
    },
    {
      "cell_type": "markdown",
      "metadata": {
        "id": "lilK8LtFGKsA",
        "colab_type": "text"
      },
      "source": [
        "# **Conclusion**\n",
        "\n",
        "# From the above data analysation and visualisation we can say that:\n",
        "# **The above bar graph relation between unitcost , unitprice**\n",
        "# **The scatter plot is the graph representing the relation unitcost and unitprice**\n",
        "# **Histogram plotting shows relation between unit prices and unit cost**\n",
        "# **Central tendency shows the mean,median and mode of the give dataset**"
      ]
    }
  ]
}